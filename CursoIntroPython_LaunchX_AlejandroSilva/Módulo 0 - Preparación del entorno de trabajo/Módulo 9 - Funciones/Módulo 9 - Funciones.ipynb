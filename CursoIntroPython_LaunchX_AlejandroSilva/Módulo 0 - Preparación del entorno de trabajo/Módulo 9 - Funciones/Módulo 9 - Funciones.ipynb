{
 "cells": [
  {
   "cell_type": "markdown",
   "metadata": {},
   "source": [
    "# Ejercicio: Uso de funciones en Python"
   ]
  },
  {
   "cell_type": "markdown",
   "metadata": {},
   "source": [
    "### Ejercicio 1: Trabajar con argumentos en funciones"
   ]
  },
  {
   "cell_type": "code",
   "execution_count": 4,
   "metadata": {},
   "outputs": [
    {
     "name": "stdout",
     "output_type": "stream",
     "text": [
      "Informe de tanques\n",
      "    Combustible total: 270.0 %\n",
      "    Promedio de combustible: 90.0 %\n",
      "    Tanque 1: 80 %\n",
      "    Tanque 2: 90 %\n",
      "    Tanque 3: 100 %\n",
      "    \n"
     ]
    },
    {
     "data": {
      "text/plain": [
       "'Promedio de combustible: 73 % '"
      ]
     },
     "execution_count": 4,
     "metadata": {},
     "output_type": "execute_result"
    }
   ],
   "source": [
    "# Función para leer 3 tanques de combustible y muestre el promedio\n",
    "def informe (tanque1, tanque2, tanque3):\n",
    "    promedioCombustible = ((tanque1 + tanque2 + tanque3)/3)\n",
    "    return f\"\"\"Informe de tanques\n",
    "    Combustible total: {promedioCombustible*3} %\n",
    "    Promedio de combustible: {promedioCombustible} %\n",
    "    Tanque 1: {tanque1} %\n",
    "    Tanque 2: {tanque2} %\n",
    "    Tanque 3: {tanque3} %\n",
    "    \"\"\"\n",
    "\n",
    "# Llamamos a la función que genera el reporte print(funcion(tanque1, tanque2, tanque3))\n",
    "print(informe(80,90,100))\n",
    "\n",
    "# Función promedio \n",
    "def promedio (valoresCombustible):\n",
    "    total = sum(valoresCombustible)\n",
    "    cantidadTanques = len(valoresCombustible)\n",
    "    return f\"\"\"Promedio de combustible: {round(total / cantidadTanques)} % \"\"\"\n",
    "\n",
    "# Actualiza la función\n",
    "promedio([80, 50, 90])"
   ]
  },
  {
   "cell_type": "markdown",
   "metadata": {},
   "source": [
    "### Ejercicio 2: Trabajo con argumentos de palabra clave"
   ]
  },
  {
   "cell_type": "code",
   "execution_count": 10,
   "metadata": {},
   "outputs": [
    {
     "name": "stdout",
     "output_type": "stream",
     "text": [
      "\n",
      "    Destino: Jupiter\n",
      "    Hora estimada de prelanzamiento: 10\n",
      "    Tiempo de vuelo: 20 Minutos\n",
      "    Tiempo de viaje: 30 Minutos\n",
      "    Combustible Total: 100 \n",
      "    \n",
      "\n",
      "    Destino: Jupiter\n",
      "    Tiempo total de viaje: 90 Minutos\n",
      "    Combustible restante: 600\n",
      "    \n",
      "\n",
      "    Destino: Jupiter\n",
      "    Tiempo total de viaje: 90 Minutos\n",
      "    Combustible restante: 600\n",
      "    ext Tiene 100 restante. interno Tiene 500 restante. \n"
     ]
    }
   ],
   "source": [
    "# Función con un informe preciso de la misión. Considera hora de prelanzamiento, tiempo de vuelo, destino, tanque externo y tanque interno\n",
    "def informeKW (horaPre, tiempoVuelvo, destino, tanqueExt, tanqueInt):\n",
    "    return f\"\"\"\n",
    "    Destino: {destino}\n",
    "    Hora estimada de prelanzamiento: {horaPre}\n",
    "    Tiempo de vuelo: {tiempoVuelvo} Minutos\n",
    "    Tiempo de viaje: {(horaPre + tiempoVuelvo)} Minutos\n",
    "    Combustible Total: {(tanqueExt + tanqueInt)} \n",
    "    \"\"\"\n",
    "print(informeKW(10, 20, 'Jupiter', 50, 50))\n",
    "\n",
    "# Escribe tu nueva función de reporte considerando cualquier número de pasos basados en el tiempo y cualquier número de tanques.\n",
    "def informeMejorado (destino, *minutos, **combustible):\n",
    "    return f\"\"\"\n",
    "    Destino: {destino}\n",
    "    Tiempo total de viaje: {sum(minutos)} Minutos\n",
    "    Combustible restante: {sum(combustible.values())}\n",
    "    \"\"\"\n",
    "print(informeMejorado('Jupiter', 20, 30, 40, ext=100, intrn=500))\n",
    "\n",
    "# Debido a que el combustible que queda en los tanques es específico de cada tanque, actualiza la función para usar el nombre de cada tanque en el informe:\n",
    "# #Escribe tu nueva función\n",
    "def informeMejorado (destino, *minutos, **combustible):\n",
    "    reporteFinal = f\"\"\"\n",
    "    Destino: {destino}\n",
    "    Tiempo total de viaje: {sum(minutos)} Minutos\n",
    "    Combustible restante: {sum(combustible.values())}\n",
    "    \"\"\"\n",
    "    for tanque, cantidad in combustible.items():\n",
    "        reporteFinal += f\"{tanque} Tiene {cantidad} restante. \"\n",
    "    return reporteFinal\n",
    "print(informeMejorado('Jupiter', 20, 30, 40, ext=100, interno=500))\n"
   ]
  }
 ],
 "metadata": {
  "interpreter": {
   "hash": "474dd2b6021e53b540ed510d320f7b305029c7f50f1ac8b72683b8c32f0dae7b"
  },
  "kernelspec": {
   "display_name": "Python 3.10.2 64-bit",
   "language": "python",
   "name": "python3"
  },
  "language_info": {
   "codemirror_mode": {
    "name": "ipython",
    "version": 3
   },
   "file_extension": ".py",
   "mimetype": "text/x-python",
   "name": "python",
   "nbconvert_exporter": "python",
   "pygments_lexer": "ipython3",
   "version": "3.10.2"
  },
  "orig_nbformat": 4
 },
 "nbformat": 4,
 "nbformat_minor": 2
}
