{
 "cells": [
  {
   "cell_type": "markdown",
   "metadata": {},
   "source": [
    "# Ejercicio - Escribir declaraciones if, else, y elif"
   ]
  },
  {
   "cell_type": "code",
   "execution_count": 2,
   "metadata": {},
   "outputs": [
    {
     "name": "stdout",
     "output_type": "stream",
     "text": [
      "Advertencia! La velocidad del asteroide es de 49\n"
     ]
    }
   ],
   "source": [
    "velocidadAsteroide = 49\n",
    "if velocidadAsteroide >= 25:\n",
    "    print('Advertencia! La velocidad del asteroide es de', velocidadAsteroide)\n",
    "else:\n",
    "    print('Todo normal...')"
   ]
  },
  {
   "cell_type": "code",
   "execution_count": 3,
   "metadata": {},
   "outputs": [
    {
     "name": "stdout",
     "output_type": "stream",
     "text": [
      "Todo normal\n"
     ]
    }
   ],
   "source": [
    "velocidadAsteroide = 19\n",
    "if velocidadAsteroide >= 20:\n",
    "    print('Mira! Se ve un rayo de luz!')\n",
    "elif velocidadAsteroide >= 25:\n",
    "    print('Advertencia! La velocidad del asteroide es de', velocidadAsteroide)\n",
    "elif velocidadAsteroide < 20:\n",
    "    print('Todo normal...')\n",
    "else: \n",
    "    print('Saludos a la tripulación!')"
   ]
  },
  {
   "cell_type": "markdown",
   "metadata": {},
   "source": [
    "# Ejercicio: Uso de operadores and y or"
   ]
  },
  {
   "cell_type": "code",
   "execution_count": 4,
   "metadata": {},
   "outputs": [
    {
     "name": "stdout",
     "output_type": "stream",
     "text": [
      "Saludos a todos!\n"
     ]
    }
   ],
   "source": [
    "velocidadAsteroide = 10\n",
    "tamanoAsteroide = 12\n",
    "if velocidadAsteroide >= 25 and tamanoAsteroide >= 25:\n",
    "    print('Peligro de Asteroide! Huyaaan!...')\n",
    "elif velocidadAsteroide >= 20 and tamanoAsteroide < 25:\n",
    "    print('Miren! Un rato de luz!')\n",
    "elif velocidadAsteroide > 20 and tamanoAsteroide < 25:\n",
    "    print('Todo normal')\n",
    "elif velocidadAsteroide == 0 or tamanoAsteroide == 0:\n",
    "    print('Sin peligro detectado')\n",
    "else:\n",
    "    print('Saludos a toda la tripulación!')"
   ]
  }
 ],
 "metadata": {
  "interpreter": {
   "hash": "474dd2b6021e53b540ed510d320f7b305029c7f50f1ac8b72683b8c32f0dae7b"
  },
  "kernelspec": {
   "display_name": "Python 3.10.2 64-bit",
   "language": "python",
   "name": "python3"
  },
  "language_info": {
   "codemirror_mode": {
    "name": "ipython",
    "version": 3
   },
   "file_extension": ".py",
   "mimetype": "text/x-python",
   "name": "python",
   "nbconvert_exporter": "python",
   "pygments_lexer": "ipython3",
   "version": "3.10.2"
  },
  "orig_nbformat": 4
 },
 "nbformat": 4,
 "nbformat_minor": 2
}
