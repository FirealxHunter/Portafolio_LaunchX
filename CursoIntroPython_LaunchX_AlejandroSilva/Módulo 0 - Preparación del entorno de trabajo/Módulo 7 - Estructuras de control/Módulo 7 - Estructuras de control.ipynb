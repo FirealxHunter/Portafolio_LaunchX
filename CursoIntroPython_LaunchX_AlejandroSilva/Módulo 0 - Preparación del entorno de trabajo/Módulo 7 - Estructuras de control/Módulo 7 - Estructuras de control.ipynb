{
 "cells": [
  {
   "cell_type": "markdown",
   "metadata": {},
   "source": [
    "### Ejercicio 1: Creación de un bucle \"while\""
   ]
  },
  {
   "cell_type": "code",
   "execution_count": 7,
   "metadata": {},
   "outputs": [],
   "source": [
    "# Declara dos variables\n",
    "new_planet = input(\"\"\"Ingresa un planeta a la lista o escribe \"done\" para finalizar\"\"\")\n",
    "planets = []\n",
    "\n",
    "# Escribe el ciclo while solicitado\n",
    "while new_planet.lower() != 'done':\n",
    "    if new_planet:\n",
    "        planets.append(new_planet)\n",
    "    new_planet = input(\"\"\"Ingresa un planeta a la lista o escribe \"done\" para finalizar\"\"\")"
   ]
  },
  {
   "cell_type": "markdown",
   "metadata": {},
   "source": [
    "### Ejercicio 2: Creación de un ciclo \"for\""
   ]
  },
  {
   "cell_type": "code",
   "execution_count": 10,
   "metadata": {},
   "outputs": [
    {
     "name": "stdout",
     "output_type": "stream",
     "text": [
      "Planeta:  Mercurio esta en lista\n",
      "Planeta:  Venus esta en lista\n",
      "Planeta:  Tierra esta en lista\n",
      "Planeta:  Donde esta en lista\n",
      "La lista es:  ['mercurio', 'venus', 'tierra', 'donde']\n"
     ]
    }
   ],
   "source": [
    "# Escribe tu ciclo for para iterar en una lista de planetas\n",
    "for planet in planets:\n",
    "    print('Planeta: ', planet.title(), 'esta en lista')\n",
    "print('La lista es: ', planets)"
   ]
  }
 ],
 "metadata": {
  "interpreter": {
   "hash": "474dd2b6021e53b540ed510d320f7b305029c7f50f1ac8b72683b8c32f0dae7b"
  },
  "kernelspec": {
   "display_name": "Python 3.10.2 64-bit",
   "language": "python",
   "name": "python3"
  },
  "language_info": {
   "codemirror_mode": {
    "name": "ipython",
    "version": 3
   },
   "file_extension": ".py",
   "mimetype": "text/x-python",
   "name": "python",
   "nbconvert_exporter": "python",
   "pygments_lexer": "ipython3",
   "version": "3.10.2"
  },
  "orig_nbformat": 4
 },
 "nbformat": 4,
 "nbformat_minor": 2
}
