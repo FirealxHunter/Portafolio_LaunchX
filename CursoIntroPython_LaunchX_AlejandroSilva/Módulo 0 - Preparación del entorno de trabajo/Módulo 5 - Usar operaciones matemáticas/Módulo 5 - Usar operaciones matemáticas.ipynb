{
 "cells": [
  {
   "cell_type": "markdown",
   "metadata": {},
   "source": [
    "### Ejercicio1 - Utilizar operadores aritméticos"
   ]
  },
  {
   "cell_type": "code",
   "execution_count": 12,
   "metadata": {},
   "outputs": [
    {
     "name": "stdout",
     "output_type": "stream",
     "text": [
      "La distancia en kilometros es:  628949330 Km\n",
      "La distancia en millas es:  390577533.93 Millas\n"
     ]
    }
   ],
   "source": [
    "# Crear variables para almacenar las dos distancias\n",
    "tierra = 149597870 #km\n",
    "jupiter = 778547200 #km\n",
    "valorMillas = 0.621\n",
    "# Calcular la distancia entre planetas\n",
    "distanciaKm = abs(tierra - jupiter)\n",
    "distanciaMillas = (distanciaKm * valorMillas)\n",
    "print('La distancia en kilometros es: ', distanciaKm, 'Km')\n",
    "print('La distancia en millas es: ', distanciaMillas, 'Millas')"
   ]
  },
  {
   "cell_type": "markdown",
   "metadata": {},
   "source": [
    "### Ejercicio 2: convierte cadenas en números y usa valores absolutos"
   ]
  },
  {
   "cell_type": "code",
   "execution_count": 13,
   "metadata": {},
   "outputs": [
    {
     "name": "stdout",
     "output_type": "stream",
     "text": [
      "La distancia Total en Kilometros es de:  10 Km\n",
      "La distancia Total en Millas es de:  6.21 Millas\n"
     ]
    }
   ],
   "source": [
    "distanciaUno = input('Ingresa la distancia del primer planeta en valor numerico: ')\n",
    "distanciaDos = input('Ingresa la distancia del segundo planeta en valor numerico: ')\n",
    "# Convierte las cadenas de ambos planetas a números enteros\n",
    "distanciaUno = int(distanciaUno)\n",
    "distanciaDos = int(distanciaDos)\n",
    "valorMillas = 0.621\n",
    "\n",
    "# Realizar el cálculo y determinar el valor absoluto\n",
    "distanciaTotal = abs(distanciaUno - distanciaDos)\n",
    "distanciaTotMill= (distanciaTotal * valorMillas)\n",
    "print('La distancia Total en Kilometros es de: ', distanciaTotal,'Km')\n",
    "print('La distancia Total en Millas es de: ', distanciaTotMill, 'Millas')\n"
   ]
  }
 ],
 "metadata": {
  "interpreter": {
   "hash": "474dd2b6021e53b540ed510d320f7b305029c7f50f1ac8b72683b8c32f0dae7b"
  },
  "kernelspec": {
   "display_name": "Python 3.10.2 64-bit",
   "language": "python",
   "name": "python3"
  },
  "language_info": {
   "codemirror_mode": {
    "name": "ipython",
    "version": 3
   },
   "file_extension": ".py",
   "mimetype": "text/x-python",
   "name": "python",
   "nbconvert_exporter": "python",
   "pygments_lexer": "ipython3",
   "version": "3.10.2"
  },
  "orig_nbformat": 4
 },
 "nbformat": 4,
 "nbformat_minor": 2
}
