{
 "cells": [
  {
   "cell_type": "markdown",
   "metadata": {},
   "source": [
    "### Ejercicio1: Crear y usar listas de Python"
   ]
  },
  {
   "cell_type": "code",
   "execution_count": 9,
   "metadata": {},
   "outputs": [
    {
     "name": "stdout",
     "output_type": "stream",
     "text": [
      "La lista actual de planetas es:  ['Mercury', 'Venus', 'Earth', 'Mars', 'Jupiter', 'Saturn', 'Uranus', 'Neptune']\n",
      "El último planeta agregado es:  Pluto\n",
      "la lista actual de planetas ahora es:  ['Mercury', 'Venus', 'Earth', 'Mars', 'Jupiter', 'Saturn', 'Uranus', 'Neptune', 'Pluto']\n"
     ]
    }
   ],
   "source": [
    "# Creamos la lista planets y la mostramos\n",
    "planets = ['Mercury', 'Venus', 'Earth', 'Mars', 'Jupiter', 'Saturn', 'Uranus', 'Neptune']\n",
    "print('La lista actual de planetas es: ', planets)\n",
    "\n",
    "# Agregamos a plutón y mostramos el último elemento\n",
    "planets.append('Pluto')\n",
    "print('El último planeta agregado es: ', planets[-1])\n",
    "print('la lista actual de planetas ahora es: ', planets)"
   ]
  },
  {
   "cell_type": "markdown",
   "metadata": {},
   "source": [
    "### Ejercicio 2: Trabajando con datos de una lista"
   ]
  },
  {
   "cell_type": "code",
   "execution_count": 6,
   "metadata": {},
   "outputs": [
    {
     "name": "stdout",
     "output_type": "stream",
     "text": [
      "Esta es la lista de planetas:  ['Mercury', 'Venus', 'Earth', 'Mars', 'Jupiter', 'Saturn', 'Neptune']\n",
      "El planeta está en la posición:  3\n",
      "Los planetas más cercanos al sol que  Earth  son: \n",
      "['Mercury', 'Venus']\n",
      "Los planetas más alejados al sol que  Earth  son: \n",
      "['Mars', 'Jupiter', 'Saturn', 'Neptune']\n"
     ]
    }
   ],
   "source": [
    "# Lista de planetas\n",
    "planets = ['Mercury', 'Venus', 'Earth', 'Mars', 'Jupiter', 'Saturn', 'Neptune']\n",
    "print('Esta es la lista de planetas: ', planets)\n",
    "\n",
    "# Solicitamos el nombre de un planeta\n",
    "nuevoPlaneta = input('Introduce el nombre de un planeta de la lista iniciando con Mayúscula: ')\n",
    "nuevoPlaneta = nuevoPlaneta.title()\n",
    "\n",
    "# Busca el planeta en la lista\n",
    "buscarPlaneta = planets.index(nuevoPlaneta)\n",
    "print('El planeta está en la posición: ', buscarPlaneta+1)\n",
    "\n",
    "# Muestra los planetas más cercanos al sol\n",
    "print('Los planetas más cercanos al sol que ', nuevoPlaneta, ' son: ')\n",
    "print(planets[0:buscarPlaneta])\n",
    "\n",
    "# Muestra los planetas más lejanos al sol\n",
    "print('Los planetas más alejados al sol que ', nuevoPlaneta, ' son: ')\n",
    "print(planets[buscarPlaneta + 1:])"
   ]
  }
 ],
 "metadata": {
  "interpreter": {
   "hash": "474dd2b6021e53b540ed510d320f7b305029c7f50f1ac8b72683b8c32f0dae7b"
  },
  "kernelspec": {
   "display_name": "Python 3.10.2 64-bit",
   "language": "python",
   "name": "python3"
  },
  "language_info": {
   "codemirror_mode": {
    "name": "ipython",
    "version": 3
   },
   "file_extension": ".py",
   "mimetype": "text/x-python",
   "name": "python",
   "nbconvert_exporter": "python",
   "pygments_lexer": "ipython3",
   "version": "3.10.2"
  },
  "orig_nbformat": 4
 },
 "nbformat": 4,
 "nbformat_minor": 2
}
